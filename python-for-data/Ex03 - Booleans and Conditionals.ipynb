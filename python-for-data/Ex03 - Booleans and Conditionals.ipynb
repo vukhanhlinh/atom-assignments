{
  "nbformat": 4,
  "nbformat_minor": 0,
  "metadata": {
    "kernelspec": {
      "display_name": "Python 3",
      "language": "python",
      "name": "python3"
    },
    "language_info": {
      "codemirror_mode": {
        "name": "ipython",
        "version": 3
      },
      "file_extension": ".py",
      "mimetype": "text/x-python",
      "name": "python",
      "nbconvert_exporter": "python",
      "pygments_lexer": "ipython3",
      "version": "3.6.5"
    },
    "learntools_metadata": {
      "lesson_index": 2,
      "type": "exercise"
    },
    "colab": {
      "name": "Ex03 - Booleans and Conditionals.ipynb",
      "provenance": []
    }
  },
  "cells": [
    {
      "cell_type": "markdown",
      "metadata": {
        "_uuid": "21c27e27bc5ba7fcb23ab38da2c70a123904017b",
        "id": "YOhLcqkGiFQm"
      },
      "source": [
        "# Exercise 03 - Booleans and Conditionals"
      ]
    },
    {
      "cell_type": "markdown",
      "metadata": {
        "_uuid": "1fea117e5442c02be807efc9b7d836b88c50bbb1",
        "id": "EXwOnSz4iFQp"
      },
      "source": [
        "## 1. Simple Function with Conditionals\n",
        "\n",
        "Many programming languages have [sign](https://en.wikipedia.org/wiki/Sign_function) available as a built-in function. Python does not, but we can define our own!\n",
        "\n",
        "In the cell below, define a function called `sign` which takes a numerical argument and returns -1 if it's negative, 1 if it's positive, and 0 if it's 0."
      ]
    },
    {
      "cell_type": "code",
      "metadata": {
        "_uuid": "389a797c0dcedfce9dd29062bd4557af43d6a61f",
        "id": "PWCR2X9BiFQs",
        "outputId": "2aa49825-070c-4a0d-e33a-54993be48d63",
        "colab": {
          "base_uri": "https://localhost:8080/"
        }
      },
      "source": [
        "# Your code goes here. Define a function called 'sign'\n",
        "def sign(x):\n",
        "  if x > 0:\n",
        "    print('It is positive') \n",
        "  if x < 0:\n",
        "    return print('It is negative')\n",
        "  if x== 0:\n",
        "    print('It is 0')\n",
        "\n",
        "sign(4)\n",
        "sign(0)"
      ],
      "execution_count": 35,
      "outputs": [
        {
          "output_type": "stream",
          "text": [
            "It is positive\n",
            "It is 0\n"
          ],
          "name": "stdout"
        }
      ]
    },
    {
      "cell_type": "markdown",
      "metadata": {
        "_uuid": "2325742b3047892e10944302df053135ecc2a7c9",
        "id": "EErCYmCSiFQt"
      },
      "source": [
        "## 2. Singular vs Plural Nouns\n",
        "\n",
        "We've decided to add \"print\" to our `to_smash` function from Exercise 02"
      ]
    },
    {
      "cell_type": "code",
      "metadata": {
        "_uuid": "355254f7443d5cfa4101bc9e6c2ad17ec80b6f42",
        "id": "MQ4577MpiFQv",
        "outputId": "5b174c50-ff87-4285-87f1-e1b97267ffbd",
        "colab": {
          "base_uri": "https://localhost:8080/"
        }
      },
      "source": [
        "def to_smash(total_candies):\n",
        "  print(\"Splitting\", total_candies, \"candies\")\n",
        "  return total_candies % 3\n",
        "\n",
        "to_smash(91)"
      ],
      "execution_count": 5,
      "outputs": [
        {
          "output_type": "stream",
          "text": [
            "Splitting 91 candies\n"
          ],
          "name": "stdout"
        },
        {
          "output_type": "execute_result",
          "data": {
            "text/plain": [
              "1"
            ]
          },
          "metadata": {
            "tags": []
          },
          "execution_count": 5
        }
      ]
    },
    {
      "cell_type": "markdown",
      "metadata": {
        "_uuid": "1fd29934be7697946f0d5f6d2c317d42477536a2",
        "id": "y3XEM_QviFQw"
      },
      "source": [
        "What happens if we call it with `total_candies = 1`?"
      ]
    },
    {
      "cell_type": "code",
      "metadata": {
        "_uuid": "0ab31971369125c92c3e48fb85528f1019506f55",
        "id": "coNf36mCiFQx",
        "outputId": "25146e71-4ced-460b-8e9c-c8c5eb33dc9a",
        "colab": {
          "base_uri": "https://localhost:8080/"
        }
      },
      "source": [
        "to_smash(1)"
      ],
      "execution_count": 6,
      "outputs": [
        {
          "output_type": "stream",
          "text": [
            "Splitting 1 candies\n"
          ],
          "name": "stdout"
        },
        {
          "output_type": "execute_result",
          "data": {
            "text/plain": [
              "1"
            ]
          },
          "metadata": {
            "tags": []
          },
          "execution_count": 6
        }
      ]
    },
    {
      "cell_type": "markdown",
      "metadata": {
        "_uuid": "c3da02ff210e1c9802508721ae7b8b4517d608aa",
        "id": "8vJMqNESiFQy"
      },
      "source": [
        "**Wrong grammar there!**\n",
        "\n",
        "Modify the definition in the cell below to correct the grammar of our print statement.\n",
        "\n",
        "**Your Task:**\n",
        "> If there's only one candy, we should use the singular \"candy\" instead of the plural \"candies\""
      ]
    },
    {
      "cell_type": "code",
      "metadata": {
        "_uuid": "9a72159586645ffc30658b693dd73d638f73aa81",
        "id": "ePW6yZ92iFQz",
        "outputId": "0b94ad66-1bf1-4d85-c517-14e7c4cb739e",
        "colab": {
          "base_uri": "https://localhost:8080/"
        }
      },
      "source": [
        "def to_smash(total_candies):\n",
        "    \"\"\"Return the number of leftover candies that must be smashed after distributing\n",
        "    the given number of candies evenly between 3 friends.\n",
        "    \n",
        "    >>> to_smash(91)\n",
        "    1\n",
        "    \"\"\"\n",
        "    if total_candies > 1:\n",
        "      check = 'candies'\n",
        "    else:\n",
        "      check = 'candy'\n",
        "    print(\"Splitting\", total_candies, check)\n",
        "    return total_candies % 3\n",
        "\n",
        "to_smash(1)\n"
      ],
      "execution_count": 12,
      "outputs": [
        {
          "output_type": "stream",
          "text": [
            "Splitting 1 candy\n"
          ],
          "name": "stdout"
        },
        {
          "output_type": "execute_result",
          "data": {
            "text/plain": [
              "1"
            ]
          },
          "metadata": {
            "tags": []
          },
          "execution_count": 12
        }
      ]
    },
    {
      "cell_type": "markdown",
      "metadata": {
        "_uuid": "1a845d06c59777e51ec802dbdc6f47da67c9a412",
        "id": "y0Y1Ku6QiFQ0"
      },
      "source": [
        "## 3. Checking weather again\n",
        "\n",
        "In the main lesson we talked about deciding whether we're prepared for the weather. I said that I'm safe from today's weather if...\n",
        "- I have an umbrella...\n",
        "- or if the rain isn't too heavy and I have a hood...\n",
        "- otherwise, I'm still fine unless it's raining *and* it's a workday\n",
        "\n",
        "The function below uses our first attempt at turning this logic into a Python expression. I claimed that there was a bug in that code. Can you find it?\n",
        "\n",
        "To prove that `prepared_for_weather` is buggy, come up with a set of inputs where it returns the wrong answer."
      ]
    },
    {
      "cell_type": "code",
      "metadata": {
        "_uuid": "e74b922bdf5a2f30f1028deaea50a67395707743",
        "id": "pSWOdliZiFQ2",
        "outputId": "9180ca5e-b7a8-448b-81ce-748af9db3895",
        "colab": {
          "base_uri": "https://localhost:8080/"
        }
      },
      "source": [
        "def prepared_for_weather(have_umbrella, rain_level, have_hood, is_workday):\n",
        "    # Don't change this code. Our goal is just to find the bug, not fix it!\n",
        "    return have_umbrella or rain_level < 5 and have_hood or not rain_level > 0 and is_workday      \n",
        "          \n",
        "\n",
        "# Change the values of these inputs so they represent a case where prepared_for_weather\n",
        "# returns the wrong answer.\n",
        "have_umbrella = False\n",
        "rain_level = 4\n",
        "have_hood = True\n",
        "is_workday = True\n",
        "\n",
        "# Check what the function returns given the current values of the variables above\n",
        "actual = prepared_for_weather(have_umbrella, rain_level, have_hood, is_workday)\n",
        "print(actual)"
      ],
      "execution_count": 38,
      "outputs": [
        {
          "output_type": "stream",
          "text": [
            "True\n"
          ],
          "name": "stdout"
        }
      ]
    },
    {
      "cell_type": "markdown",
      "metadata": {
        "_uuid": "4ae6c2ca9c5c6dacdfa9c0bb7482a20ec551fa58",
        "id": "Cb9Lf-UjiFQ3"
      },
      "source": [
        "## 4. Start being lazy...\n",
        "\n",
        "The function `is_negative` below is implemented correctly \n",
        "- It returns True if the given number is negative and False otherwise.\n",
        "\n",
        "However, it's more verbose than it needs to be. We can actually reduce the number of lines of code in this function by *75%* while keeping the same behaviour. \n",
        "\n",
        "**Your task:**\n",
        "> See if you can come up with an equivalent body that uses just **one line** of code, and put it in the function `concise_is_negative`. (HINT: you don't even need Python's ternary syntax)"
      ]
    },
    {
      "cell_type": "code",
      "metadata": {
        "_uuid": "bd62b6272cddb8ac1c4f5a871f64d83919a1d2d1",
        "id": "1mcVd-hjiFQ5",
        "outputId": "6a7c25cd-d8a2-40ef-9e29-5ede3a534c6c",
        "colab": {
          "base_uri": "https://localhost:8080/"
        }
      },
      "source": [
        "def is_negative(number):\n",
        "    if number < 0:\n",
        "        return True\n",
        "    else:\n",
        "        return False\n",
        "\n",
        "def concise_is_negative(number):\n",
        "    return number < 0  # Your code goes here (try to keep it to one line!)\n",
        "\n",
        "concise_is_negative(-2)\n"
      ],
      "execution_count": 39,
      "outputs": [
        {
          "output_type": "execute_result",
          "data": {
            "text/plain": [
              "True"
            ]
          },
          "metadata": {
            "tags": []
          },
          "execution_count": 39
        }
      ]
    },
    {
      "cell_type": "markdown",
      "metadata": {
        "_uuid": "995c718c9ddd321607a3778f68d59149d56a3689",
        "id": "L2Kwr22HiFQ7"
      },
      "source": [
        "## 5. Adding Toppings\n",
        "\n",
        "The boolean variables `ketchup`, `mustard` and `onion` represent whether a customer wants a particular topping on their hot dog. We want to implement a number of boolean functions that correspond to some yes-or-no questions about the customer's order. For example:"
      ]
    },
    {
      "cell_type": "code",
      "metadata": {
        "_uuid": "d5731fbb37cb59a885605916589db8d857300088",
        "id": "Ce3bx_AliFQ8",
        "outputId": "98c2c657-567b-4cbc-fbb5-f5c4770bdcb2",
        "colab": {
          "base_uri": "https://localhost:8080/"
        }
      },
      "source": [
        "def onionless(ketchup, mustard, onion):\n",
        "    # Return whether the customer doesn't want onions.\n",
        "    \n",
        "    if (onion == False):\n",
        "      return True\n",
        "    else:\n",
        "      return False\n",
        "\n",
        "onionless(True,False,False)"
      ],
      "execution_count": 43,
      "outputs": [
        {
          "output_type": "execute_result",
          "data": {
            "text/plain": [
              "True"
            ]
          },
          "metadata": {
            "tags": []
          },
          "execution_count": 43
        }
      ]
    },
    {
      "cell_type": "markdown",
      "metadata": {
        "_uuid": "fbefa143df2a5779687eee2b422ae170a84a8661",
        "id": "AC9sH9raiFQ9"
      },
      "source": [
        "**Your task:**\n",
        "> For each of the remaining functions, fill in the body to match the English description in the docstring. "
      ]
    },
    {
      "cell_type": "code",
      "metadata": {
        "_uuid": "6695231fb2c1978ee3714aa65af4f1678d11527e",
        "id": "LCdz7RwUiFQ-",
        "outputId": "de0d176f-d43c-4ecc-813f-e1e850cf24cf",
        "colab": {
          "base_uri": "https://localhost:8080/"
        }
      },
      "source": [
        "def wants_all_toppings(ketchup, mustard, onion):\n",
        "  # Return whether the customer wants \"the works\" (all 3 toppings)\n",
        "    if (ketchup == True) and (mustard == True) and (onion == True):\n",
        "      return True\n",
        "    else:\n",
        "      return False\n",
        "    \n",
        "wants_all_toppings(True,False,True)"
      ],
      "execution_count": 44,
      "outputs": [
        {
          "output_type": "execute_result",
          "data": {
            "text/plain": [
              "False"
            ]
          },
          "metadata": {
            "tags": []
          },
          "execution_count": 44
        }
      ]
    },
    {
      "cell_type": "code",
      "metadata": {
        "_uuid": "5adf79e8685d35e25448b92a4bb56c9396b4d317",
        "id": "riLqM-hAiFQ-",
        "outputId": "8f3e202d-ed45-42e5-cb6f-cab5b8e33634",
        "colab": {
          "base_uri": "https://localhost:8080/"
        }
      },
      "source": [
        "def wants_plain_hotdog(ketchup, mustard, onion):\n",
        "    # Return whether the customer wants a plain hot dog with no toppings.\n",
        "    if (ketchup == False) and (mustard == False) and (onion == False):\n",
        "      return True\n",
        "    else:\n",
        "      return False   \n",
        "\n",
        "wants_plain_hotdog(True,False,True)"
      ],
      "execution_count": 30,
      "outputs": [
        {
          "output_type": "execute_result",
          "data": {
            "text/plain": [
              "False"
            ]
          },
          "metadata": {
            "tags": []
          },
          "execution_count": 30
        }
      ]
    },
    {
      "cell_type": "code",
      "metadata": {
        "_uuid": "7c958fa35e3cd8b0551a01dd44cf7da50c751775",
        "id": "ajWQ-2tXiFQ_",
        "outputId": "5ba0da4b-b873-451b-eaf5-2fb2718eebeb",
        "colab": {
          "base_uri": "https://localhost:8080/"
        }
      },
      "source": [
        "def exactly_one_sauce(ketchup, mustard, onion):\n",
        "    \"\"\"Return whether the customer wants either ketchup or mustard, but not both.\n",
        "    (You may be familiar with this operation under the name \"exclusive or\")\n",
        "    \"\"\"\n",
        "    if ketchup ^ mustard:\n",
        "      return True\n",
        "    else:\n",
        "      return False\n",
        "\n",
        "\n",
        "exactly_one_sauce(False,True,True)\n"
      ],
      "execution_count": 50,
      "outputs": [
        {
          "output_type": "execute_result",
          "data": {
            "text/plain": [
              "True"
            ]
          },
          "metadata": {
            "tags": []
          },
          "execution_count": 50
        }
      ]
    },
    {
      "cell_type": "markdown",
      "metadata": {
        "_uuid": "6c162acb61791c04cd3b0ea1704bb1abbd295f74",
        "id": "QxWrxDx2iFRA"
      },
      "source": [
        "## 6. <span title=\"A bit spicy\" style=\"color: darkgreen \">🌶️</span>\n",
        "\n",
        "We’ve seen that calling `bool()` on an integer returns `False` if it’s equal to 0 and `True` otherwise. What happens if we call `int()` on a bool? Try it out in the notebook cell below.\n",
        "\n",
        "Can you take advantage of this to write a succinct function that corresponds to the English sentence \"*Does the customer want exactly one topping?*\"?\n",
        "\n",
        "> *HINT*: You may have already found that `int(True)` is `1`, and `int(False)` is `0`. Think about what kinds of basic arithmetic operations you might want to perform on ketchup, mustard, and onion after converting them to integers."
      ]
    },
    {
      "cell_type": "code",
      "metadata": {
        "_uuid": "b50d33176f8ae517a92731a25d3c38a6b46e9c66",
        "id": "s1YwvOrtiFRD",
        "outputId": "ea136c5c-5ba0-46c3-b33f-2de3e127ef02",
        "colab": {
          "base_uri": "https://localhost:8080/"
        }
      },
      "source": [
        "def exactly_one_topping(ketchup, mustard, onion):\n",
        "    # Return whether the customer wants exactly one of the three available toppings on their hot dog.\n",
        "    if (int(ketchup) + int(mustard) + int(onion)) == 1:\n",
        "      return True\n",
        "    else:\n",
        "      return False\n",
        "\n",
        "exactly_one_sauce(False,True,True)\n"
      ],
      "execution_count": 52,
      "outputs": [
        {
          "output_type": "execute_result",
          "data": {
            "text/plain": [
              "True"
            ]
          },
          "metadata": {
            "tags": []
          },
          "execution_count": 52
        }
      ]
    },
    {
      "cell_type": "markdown",
      "metadata": {
        "_uuid": "b3624ef810c429e9374920ccae116f3bdec05898",
        "id": "cbMECjVxiFRE"
      },
      "source": [
        "# Keep Going 💪"
      ]
    }
  ]
}