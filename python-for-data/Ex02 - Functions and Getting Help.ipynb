{
  "nbformat": 4,
  "nbformat_minor": 0,
  "metadata": {
    "kernelspec": {
      "display_name": "Python 3",
      "language": "python",
      "name": "python3"
    },
    "language_info": {
      "codemirror_mode": {
        "name": "ipython",
        "version": 3
      },
      "file_extension": ".py",
      "mimetype": "text/x-python",
      "name": "python",
      "nbconvert_exporter": "python",
      "pygments_lexer": "ipython3",
      "version": "3.6.5"
    },
    "learntools_metadata": {
      "lesson_index": 1,
      "type": "exercise"
    },
    "colab": {
      "name": "Ex02 - Functions and Getting Help.ipynb",
      "provenance": [],
      "include_colab_link": true
    }
  },
  "cells": [
    {
      "cell_type": "markdown",
      "metadata": {
        "id": "view-in-github",
        "colab_type": "text"
      },
      "source": [
        "<a href=\"https://colab.research.google.com/github/vukhanhlinh/atom-assignments/blob/main/python-for-data/Ex02%20-%20Functions%20and%20Getting%20Help.ipynb\" target=\"_parent\"><img src=\"https://colab.research.google.com/assets/colab-badge.svg\" alt=\"Open In Colab\"/></a>"
      ]
    },
    {
      "cell_type": "markdown",
      "metadata": {
        "_uuid": "b614ba0f78fa3cb457efd3a72d7c5c6d66ced8c4",
        "id": "KW2tiGwHSzTS"
      },
      "source": [
        "# Exercise 02 - Functions and Getting Help !"
      ]
    },
    {
      "cell_type": "markdown",
      "metadata": {
        "_uuid": "463c02da36c6f974212f336d68fa9fdec63b29f2",
        "id": "PC0RkGH6SzTW"
      },
      "source": [
        "## 1. Complete Your Very First Function \n",
        "\n",
        "Complete the body of the following function according to its docstring.\n",
        "\n",
        "*HINT*: Python has a builtin function `round`"
      ]
    },
    {
      "cell_type": "code",
      "metadata": {
        "_uuid": "eb7401ab1739f5310e7b400a67c55e9025866d5d",
        "colab": {
          "base_uri": "https://localhost:8080/"
        },
        "id": "8B6sJ1YYSzTX",
        "outputId": "54594af3-4623-4159-c62a-8654710bfcc9"
      },
      "source": [
        "def round_to_two_places(num):\n",
        "    a = round(num,2)\n",
        "    print(a)\n",
        "    \n",
        "round_to_two_places(3.14159)\n"
      ],
      "execution_count": 10,
      "outputs": [
        {
          "output_type": "stream",
          "text": [
            "3.14\n"
          ],
          "name": "stdout"
        }
      ]
    },
    {
      "cell_type": "markdown",
      "metadata": {
        "_uuid": "2c6c12ce2992453c0e7c06d813e3bdf1dbfdad73",
        "id": "EDD743AeSzTZ"
      },
      "source": [
        "## 2. Explore the Built-in Function\n",
        "The help for `round` says that `ndigits` (the second argument) may be negative.\n",
        "What do you think will happen when it is? Try some examples in the following cell?\n",
        "\n",
        "Can you think of a case where this would be useful?"
      ]
    },
    {
      "cell_type": "code",
      "metadata": {
        "_uuid": "310ae90a6f40836427b7563e595dbb1156283ceb",
        "colab": {
          "base_uri": "https://localhost:8080/"
        },
        "id": "NlEfn049SzTZ",
        "outputId": "3816dc56-4914-4000-d7b9-7250d19c4f9f"
      },
      "source": [
        "print(round(123.14159,3))\n",
        "print(round(123.14159,2))\n",
        "print(round(123.14159,1))\n",
        "print(round(123.14159,0))\n",
        "print(round(123.14159,-1))\n",
        "print(round(123.14159,-2))"
      ],
      "execution_count": 15,
      "outputs": [
        {
          "output_type": "stream",
          "text": [
            "123.142\n",
            "123.14\n",
            "123.1\n",
            "123.0\n",
            "120.0\n",
            "100.0\n"
          ],
          "name": "stdout"
        }
      ]
    },
    {
      "cell_type": "markdown",
      "metadata": {
        "_uuid": "36e83961f42db06503a116a777185ac25b759788",
        "id": "FR3uXHyjSzTa"
      },
      "source": [
        "## 3. More Function\n",
        "\n",
        "Giving the problem of candy-sharing friends Alice, Bob and Carol tried to split candies evenly. For the sake of their friendship, any candies left over would be smashed. For example, if they collectively bring home 91 candies, they will take 30 each and smash 1.\n",
        "\n",
        "Below is a simple function that will calculate the number of candies to smash for *any* number of total candies.\n",
        "\n",
        "**Your task**: \n",
        "- Modify it so that it optionally takes a second argument representing the number of friends the candies are being split between. If no second argument is provided, it should assume 3 friends, as before.\n",
        "- Update the docstring to reflect this new behaviour."
      ]
    },
    {
      "cell_type": "code",
      "metadata": {
        "_uuid": "2bbed479de86e23c7a812c7ae0782735fd764195",
        "colab": {
          "base_uri": "https://localhost:8080/"
        },
        "id": "5iMRPZ9WSzTb",
        "outputId": "84e2f02d-fb44-4ee3-bca4-7bd6e7f31a60"
      },
      "source": [
        "def to_smash(total_candies):\n",
        "    smash = total_candies % 3\n",
        "    return smash\n",
        "    \n",
        "to_smash(91)"
      ],
      "execution_count": 19,
      "outputs": [
        {
          "output_type": "execute_result",
          "data": {
            "text/plain": [
              "1"
            ]
          },
          "metadata": {
            "tags": []
          },
          "execution_count": 19
        }
      ]
    },
    {
      "cell_type": "markdown",
      "metadata": {
        "_uuid": "ec7d50eeeb167b91ecae5c682d65b9e1fc5fcf13",
        "id": "eouCtRO7SzTb"
      },
      "source": [
        "## 4. Taste some Errors\n",
        "\n",
        "It may not be fun, but reading and understanding **error messages** will help you improve solving problem skills.\n",
        "\n",
        "Each code cell below contains some commented-out buggy code. For each cell...\n",
        "\n",
        "1. Read the code and predict what you think will happen when it's run.\n",
        "2. Then uncomment the code and run it to see what happens. *(**Tips**: In the kernel editor, you can highlight several lines and press `ctrl`+`/` to toggle commenting.)*\n",
        "3. Fix the code (so that it accomplishes its intended purpose without throwing an exception)\n",
        "\n",
        "<!-- TODO: should this be autochecked? Delta is probably pretty small. -->"
      ]
    },
    {
      "cell_type": "code",
      "metadata": {
        "_uuid": "dd3955780a593bff78face0dc46093f4deb533ab",
        "colab": {
          "base_uri": "https://localhost:8080/"
        },
        "id": "Pztz5wdQSzTc",
        "outputId": "987e91c1-f734-492b-e8f0-bcec1375bd30"
      },
      "source": [
        "round_to_two_places(9.9999)"
      ],
      "execution_count": 21,
      "outputs": [
        {
          "output_type": "stream",
          "text": [
            "10.0\n"
          ],
          "name": "stdout"
        }
      ]
    },
    {
      "cell_type": "code",
      "metadata": {
        "_uuid": "2a89511b6b1bd89b05998b705bf3db5088841a43",
        "colab": {
          "base_uri": "https://localhost:8080/"
        },
        "id": "fccPqKCMSzTc",
        "outputId": "8dd6ff59-346f-4a95-d6b1-287d703a3d37"
      },
      "source": [
        "x = -10\n",
        "y = 5\n",
        "# # Which of the two variables above has the smallest absolute value?\n",
        "smallest_abs = min(abs(x),abs(y))\n",
        "smallest_abs"
      ],
      "execution_count": 29,
      "outputs": [
        {
          "output_type": "execute_result",
          "data": {
            "text/plain": [
              "5"
            ]
          },
          "metadata": {
            "tags": []
          },
          "execution_count": 29
        }
      ]
    },
    {
      "cell_type": "code",
      "metadata": {
        "_uuid": "6ae2b82d1003c4bc7fe4d503e7d9ddeca3f95b1e",
        "colab": {
          "base_uri": "https://localhost:8080/"
        },
        "id": "_EH88eXfSzTd",
        "outputId": "0142dbeb-e052-497d-fb3e-485e637e5582"
      },
      "source": [
        "def f(x):\n",
        "    y = abs(x)\n",
        "    return y\n",
        "\n",
        "print(f(5))\n",
        "print(f(-2))"
      ],
      "execution_count": 31,
      "outputs": [
        {
          "output_type": "stream",
          "text": [
            "5\n",
            "2\n"
          ],
          "name": "stdout"
        }
      ]
    },
    {
      "cell_type": "markdown",
      "metadata": {
        "_uuid": "dc94a365a7d7f7f974348e9e5ec597a2d5036c6b",
        "id": "dKjRW9ilSzTd"
      },
      "source": [
        "## 5. More and more Functions\n",
        "\n",
        "For this question, we'll be using two functions imported from Python's `time` module.\n",
        "\n",
        "### Time Function\n",
        "The [time](https://docs.python.org/3/library/time.html#time.time) function returns the number of seconds that have passed since the Epoch (aka [Unix time](https://en.wikipedia.org/wiki/Unix_time)). \n",
        "\n",
        "<!-- We've provided a function called `seconds_since_epoch` which returns the number of seconds that have passed since the Epoch (aka [Unix time](https://en.wikipedia.org/wiki/Unix_time)). -->\n",
        "\n",
        "Try it out below. Each time you run it, you should get a slightly larger number."
      ]
    },
    {
      "cell_type": "code",
      "metadata": {
        "_uuid": "6c219975b461ccac77cdb0cb8dd3527c0cef52fd",
        "colab": {
          "base_uri": "https://localhost:8080/"
        },
        "id": "nkSl_xboSzTe",
        "outputId": "a57c0655-06eb-4201-d6b9-cb27b23d67e9"
      },
      "source": [
        "# Importing the function 'time' from the module of the same name. \n",
        "# (We'll discuss imports in more depth later)\n",
        "from time import time\n",
        "t = time()\n",
        "print(t, \"seconds since the Epoch\")"
      ],
      "execution_count": 32,
      "outputs": [
        {
          "output_type": "stream",
          "text": [
            "1621692047.6139307 seconds since the Epoch\n"
          ],
          "name": "stdout"
        }
      ]
    },
    {
      "cell_type": "markdown",
      "metadata": {
        "_uuid": "5b75363a5c9d514c41cc10f263083f16b078c81c",
        "id": "4hFKNU8_SzTe"
      },
      "source": [
        "### Sleep Function\n",
        "We'll also be using a function called [sleep](https://docs.python.org/3/library/time.html#time.sleep), which makes us wait some number of seconds while it does nothing particular. (Sounds useful, right?)\n",
        "\n",
        "You can see it in action by running the cell below:"
      ]
    },
    {
      "cell_type": "code",
      "metadata": {
        "_uuid": "bc124bfa7c9ac5510fae42cb4c241768ab241502",
        "colab": {
          "base_uri": "https://localhost:8080/"
        },
        "id": "Fnl7PCdZSzTf",
        "outputId": "7e1438f2-cf1e-4ead-bff6-3d5f0d65722e"
      },
      "source": [
        "from time import sleep\n",
        "duration = 5\n",
        "print(\"Getting sleepy. See you in\", duration, \"seconds\")\n",
        "sleep(duration)\n",
        "print(\"I'm back. What did I miss?\")"
      ],
      "execution_count": 33,
      "outputs": [
        {
          "output_type": "stream",
          "text": [
            "Getting sleepy. See you in 5 seconds\n",
            "I'm back. What did I miss?\n"
          ],
          "name": "stdout"
        }
      ]
    },
    {
      "cell_type": "markdown",
      "metadata": {
        "_uuid": "c4e97a4e8267f2c210ada2949b084fa8c9742c9d",
        "id": "LFL6DG-FSzTf"
      },
      "source": [
        "### Your Own Function\n",
        "With the help of these functions, complete the function **`time_call`** below according to its docstring.\n",
        "\n",
        "<!-- (The sleep function will be useful for testing here since we have a pretty good idea of what something like `time_call(sleep, 1)` should return.) -->"
      ]
    },
    {
      "cell_type": "code",
      "metadata": {
        "_uuid": "100e5013aea45c09e249bf1476d103b1f98daba4",
        "id": "XF3m28mCSzTg"
      },
      "source": [
        "def time_call(fn, arg):\n",
        "    #Return the amount of time the given function takes (in seconds) when called with the given argument.\n",
        "    from time import time\n",
        "    start_time = time()\n",
        "    fn(arg)\n",
        "    end_time = time()\n",
        "    duration = end_time - start_time\n",
        "    return duration"
      ],
      "execution_count": 38,
      "outputs": []
    },
    {
      "cell_type": "markdown",
      "metadata": {
        "_uuid": "45ba3ad3926ba61d0c9febfc129d8118b9f01518",
        "id": "1TsdQFVASzTg"
      },
      "source": [
        "How would you verify that `time_call` is working correctly? Think about it..."
      ]
    },
    {
      "cell_type": "markdown",
      "metadata": {
        "_uuid": "472d1778e82e6b7300823a7934ecb55a35a1bb42",
        "id": "yLI6TxDpSzTh"
      },
      "source": [
        "## 6. 🌶️ Reuse your Function\n",
        "\n",
        "*Note: this question depends on a working solution to the previous question.*\n",
        "\n",
        "Complete the function below according to its docstring."
      ]
    },
    {
      "cell_type": "code",
      "metadata": {
        "_uuid": "21abdac6bcd885ef4916cf56a360aee37bce2479",
        "colab": {
          "base_uri": "https://localhost:8080/"
        },
        "id": "ARP0HHGtSzTh",
        "outputId": "30818748-687a-41df-cd54-cc221c4d4efb"
      },
      "source": [
        "def slowest_call(fn, arg1, arg2, arg3):\n",
        "    \"\"\"Return the amount of time taken by the slowest of the following function\n",
        "    calls: fn(arg1), fn(arg2), fn(arg3)\n",
        "    \n",
        "    \"\"\"\n",
        "    slowest = min(time_call(fn, arg1), time_call(fn, arg2), time_call(fn,arg3))\n",
        "    return slowest\n",
        "\n",
        "  \n",
        "print(slowest_call(sleep,1,2,3))\n",
        " "
      ],
      "execution_count": 41,
      "outputs": [
        {
          "output_type": "stream",
          "text": [
            "1.001103162765503\n"
          ],
          "name": "stdout"
        }
      ]
    },
    {
      "cell_type": "markdown",
      "metadata": {
        "_uuid": "d1c0353110c1b9578af9bbc20e4a9e0f6717a34e",
        "id": "ee2PcvHRSzTi"
      },
      "source": [
        "# Keep Going"
      ]
    }
  ]
}