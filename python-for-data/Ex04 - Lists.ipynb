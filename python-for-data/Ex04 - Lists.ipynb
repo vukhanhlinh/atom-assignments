{
  "nbformat": 4,
  "nbformat_minor": 0,
  "metadata": {
    "kernelspec": {
      "display_name": "Python 3",
      "language": "python",
      "name": "python3"
    },
    "language_info": {
      "codemirror_mode": {
        "name": "ipython",
        "version": 3
      },
      "file_extension": ".py",
      "mimetype": "text/x-python",
      "name": "python",
      "nbconvert_exporter": "python",
      "pygments_lexer": "ipython3",
      "version": "3.6.5"
    },
    "learntools_metadata": {
      "lesson_index": 3,
      "type": "exercise"
    },
    "colab": {
      "name": "Ex04 - Lists.ipynb",
      "provenance": [],
      "include_colab_link": true
    }
  },
  "cells": [
    {
      "cell_type": "markdown",
      "metadata": {
        "id": "view-in-github",
        "colab_type": "text"
      },
      "source": [
        "<a href=\"https://colab.research.google.com/github/vukhanhlinh/atom-assignments/blob/main/python-for-data/Ex04%20-%20Lists.ipynb\" target=\"_parent\"><img src=\"https://colab.research.google.com/assets/colab-badge.svg\" alt=\"Open In Colab\"/></a>"
      ]
    },
    {
      "cell_type": "markdown",
      "metadata": {
        "_uuid": "1a67880eb71b1350b7b1280a612430450082d4e9",
        "id": "MDBhU_51gFz3"
      },
      "source": [
        "# Exercises 04 - Lists"
      ]
    },
    {
      "cell_type": "markdown",
      "metadata": {
        "_uuid": "47f2a23f94e26e3a8b4d97dba00bfceb4c47c4fe",
        "id": "NqTTRdbNgFz6"
      },
      "source": [
        "## 1. Second Element\n",
        "\n",
        "Complete the function below according to its docstring.\n",
        "\n",
        "*HINT*: Python starts counting at 0."
      ]
    },
    {
      "cell_type": "code",
      "metadata": {
        "id": "VRGVuLnHha7t"
      },
      "source": [
        "List = [1,2,3,4,5,6,7]"
      ],
      "execution_count": 2,
      "outputs": []
    },
    {
      "cell_type": "code",
      "metadata": {
        "_uuid": "0abcaf62d979ca49db3f5a6ffd53d3aa3f47772d",
        "id": "0N3Y8qF1gFz7",
        "outputId": "b5b86fcb-1f17-46ff-fc73-c2da72a16093",
        "colab": {
          "base_uri": "https://localhost:8080/"
        }
      },
      "source": [
        "def select_second(L):\n",
        "    \"\"\"Return the second element of the given list. \n",
        "    If the list has no second element, return None.\n",
        "    \"\"\"\n",
        "    if len(L) > 1:\n",
        "      print('The second element of the given list is ', L[1])\n",
        "    else: \n",
        "      return None\n",
        "\n",
        "select_second(List)"
      ],
      "execution_count": 3,
      "outputs": [
        {
          "output_type": "stream",
          "text": [
            "The second element of the given list is  2\n"
          ],
          "name": "stdout"
        }
      ]
    },
    {
      "cell_type": "markdown",
      "metadata": {
        "_uuid": "582c4e6ca2d9714e9eb780540c0cf3bab59c5eca",
        "id": "wJURxDKngFz8"
      },
      "source": [
        "## 2. Captain of the Worst Team\n",
        "\n",
        "You are analyzing sports teams.  Members of each team are stored in a list. The **Coach** is the first name in the list, the **Captain** is the second name in the list, and other players are listed after that. \n",
        "These lists are stored in another list, which starts with the best team and proceeds through the list to the worst team last.  Complete the function below to select the **captain** of the worst team."
      ]
    },
    {
      "cell_type": "code",
      "metadata": {
        "_uuid": "9d3ff53f43d375faf107ec0d15778f1f9758b81a",
        "id": "uHOfVKM_gFz8",
        "outputId": "54fc9ef0-d7cf-44fb-e709-95b857374a86",
        "colab": {
          "base_uri": "https://localhost:8080/",
          "height": 35
        }
      },
      "source": [
        "def losing_team_captain(teams):\n",
        "    #Given a list of teams, where each team is a list of names, return the 2nd player (captain) from the last listed team\n",
        "    return teams[-1][1]\n",
        "\n",
        "teamList = [['Q','W','E'],['A','S','D']]\n",
        "losing_team_captain(teamList)"
      ],
      "execution_count": 15,
      "outputs": [
        {
          "output_type": "execute_result",
          "data": {
            "application/vnd.google.colaboratory.intrinsic+json": {
              "type": "string"
            },
            "text/plain": [
              "'S'"
            ]
          },
          "metadata": {
            "tags": []
          },
          "execution_count": 15
        }
      ]
    },
    {
      "cell_type": "markdown",
      "metadata": {
        "_uuid": "e03348668601e4c4a73e49fea71f46a274c44c54",
        "id": "CxZLUkz-gFz9"
      },
      "source": [
        "## 3. Purple Shell item\n",
        "\n",
        "The next iteration of Mario Kart will feature an extra-infuriating new item, the ***Purple Shell***. When used, it warps the last place racer into first place and the first place racer into last place. Complete the function below to implement the Purple Shell's effect."
      ]
    },
    {
      "cell_type": "code",
      "metadata": {
        "_uuid": "24a46b1ffedf35797fdddc1e394bfe1ae12d8c68",
        "id": "ltaPA-UfgFz9",
        "outputId": "5cbb949e-8089-4bf4-ae25-4f676b29a4e8",
        "colab": {
          "base_uri": "https://localhost:8080/"
        }
      },
      "source": [
        "\"\"\"Given a list of racers, set the first place racer (at the front of the list) to last\n",
        "    place and vice versa.\n",
        "    \n",
        "    >>> r = [\"Mario\", \"Bowser\", \"Luigi\",\"a\"]\n",
        "    >>> purple_shell(r)\n",
        "    >>> r\n",
        "    [\"Luigi\", \"Bowser\", \"Mario\"]\n",
        "    \"\"\"\n",
        "def purple_shell(racers):\n",
        "      racers[0] , racers[2] = racers[2] , racers[1]\n",
        "      print(racers)\n",
        "\n",
        "r = [\"Mario\", \"Bowser\", \"Luigi\",]\n",
        "purple_shell(r)"
      ],
      "execution_count": 31,
      "outputs": [
        {
          "output_type": "stream",
          "text": [
            "['Luigi', 'Bowser', 'Bowser']\n"
          ],
          "name": "stdout"
        }
      ]
    },
    {
      "cell_type": "markdown",
      "metadata": {
        "_uuid": "af48fc9e1e88852c0018e3b7132e8a223c41303c",
        "id": "S0DqOtS0gFz-"
      },
      "source": [
        "## 4. Guess the Length!\n",
        "\n",
        "What are the lengths of the following lists? Fill in the variable `lengths` with your predictions. (Try to make a prediction for each list *without* just calling `len()` on it.)"
      ]
    },
    {
      "cell_type": "code",
      "metadata": {
        "_uuid": "c4a4fcf09f84c3f7c6cb5911b1aea5ce4bfe0f96",
        "id": "asGsjI4KgFz_"
      },
      "source": [
        "a = [1, 2, 3]\n",
        "b = [1, [2, 3]]\n",
        "c = []\n",
        "d = [1, 2, 3][1:]\n",
        "\n",
        "# Put your predictions in the list below. Lengths should contain 4 numbers, the\n",
        "# first being the length of a, the second being the length of b and so on.\n",
        "\n",
        "lengths = [3, 2, 0, 2]"
      ],
      "execution_count": 34,
      "outputs": []
    },
    {
      "cell_type": "markdown",
      "metadata": {
        "_uuid": "deee98f41c11c20c366999414a20cbdbe347ac05",
        "id": "sEEhHZatgFz_"
      },
      "source": [
        "## 5. Fashionably Late <span title=\"A bit spicy\" style=\"color: darkgreen \">🌶️</span>\n",
        "\n",
        "We're using lists to record people who attended our party and what order they arrived in. For example, the following list represents a party with 7 guests, in which Adela showed up first and Ford was the last to arrive:\n",
        "\n",
        "    party_attendees = ['Adela', 'Fleda', 'Owen', 'May', 'Mona', 'Gilbert', 'Ford']\n",
        "\n",
        "A guest is considered **'fashionably late'** if they arrived after at least half of the party's guests. However, they must not be the very last guest (that's taking it too far). In the above example, Mona and Gilbert are the only guests who were fashionably late.\n",
        "\n",
        "Complete the function below which takes a list of party attendees as well as a person, and tells us whether that person is fashionably late."
      ]
    },
    {
      "cell_type": "code",
      "metadata": {
        "_uuid": "ce4940fda8abd40d9c360e5f19d759244644fed1",
        "id": "bAPUzZv7gFz_",
        "outputId": "54904a9b-efa7-46de-de89-15a6a6af94cd",
        "colab": {
          "base_uri": "https://localhost:8080/"
        }
      },
      "source": [
        "    \"\"\"Given an ordered list of arrivals to the party and a name, return whether the guest with that\n",
        "    name was fashionably late.\n",
        "    \"\"\"\n",
        "def fashionably_late(arrivals, name):\n",
        "  num = int(round((len(arrivals) / 2),1))+1\n",
        "  lateList = []\n",
        "  for i in range (num,len(arrivals)-1):\n",
        "        arrivals[i] = 'Late';\n",
        "        # lateList.append(arrivals[i])\n",
        "  return name not in arrivals\n",
        "\n",
        "party_attendees =['Adela', 'Fleda', 'Owen', 'May', 'Mona', 'Gilbert', 'Ford']\n",
        "print(fashionably_late(party_attendees, 'Mona'))"
      ],
      "execution_count": 93,
      "outputs": [
        {
          "output_type": "stream",
          "text": [
            "True\n"
          ],
          "name": "stdout"
        }
      ]
    },
    {
      "cell_type": "markdown",
      "metadata": {
        "_uuid": "8ac91b9a71f70ebbcf6cca84722c5b590c62afba",
        "id": "zpIkq-iDgF0A"
      },
      "source": [
        "\n",
        "# Keep Going 💪"
      ]
    }
  ]
}