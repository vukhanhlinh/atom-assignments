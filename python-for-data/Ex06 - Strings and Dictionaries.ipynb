{
  "nbformat": 4,
  "nbformat_minor": 0,
  "metadata": {
    "kernelspec": {
      "display_name": "Python 3",
      "language": "python",
      "name": "python3"
    },
    "language_info": {
      "codemirror_mode": {
        "name": "ipython",
        "version": 3
      },
      "file_extension": ".py",
      "mimetype": "text/x-python",
      "name": "python",
      "nbconvert_exporter": "python",
      "pygments_lexer": "ipython3",
      "version": "3.6.5"
    },
    "learntools_metadata": {
      "lesson_index": 5,
      "type": "exercise"
    },
    "colab": {
      "name": "Ex06 - Strings and Dictionaries.ipynb",
      "provenance": [],
      "include_colab_link": true
    }
  },
  "cells": [
    {
      "cell_type": "markdown",
      "metadata": {
        "id": "view-in-github",
        "colab_type": "text"
      },
      "source": [
        "<a href=\"https://colab.research.google.com/github/vukhanhlinh/atom-assignments/blob/main/python-for-data/Ex06%20-%20Strings%20and%20Dictionaries.ipynb\" target=\"_parent\"><img src=\"https://colab.research.google.com/assets/colab-badge.svg\" alt=\"Open In Colab\"/></a>"
      ]
    },
    {
      "cell_type": "markdown",
      "metadata": {
        "_uuid": "b496c474470390d707bd7dcdbb9f8f2517e609f5",
        "id": "nWjEacK1RiUD"
      },
      "source": [
        "# Exercises 06 - Strings and Dictionaries"
      ]
    },
    {
      "cell_type": "markdown",
      "metadata": {
        "_uuid": "d26f5152a99eef2df502d9b28565786f4ed4a415",
        "id": "awjdN1MaRiUJ"
      },
      "source": [
        "## 0. Length of Strings\n",
        "\n",
        "Let's start with a string lightning round to warm up. What are the lengths of the strings below?\n",
        "\n",
        "For each of the five strings below, predict what `len()` would return when passed that string. Use the variable `length` to record your answer."
      ]
    },
    {
      "cell_type": "code",
      "metadata": {
        "_uuid": "ed437b519a508dcd80f50a32312228247f25d3aa",
        "id": "mlpPrgtxRiUN",
        "outputId": "05454804-ecaa-436a-d28b-9ffd735d5af1",
        "colab": {
          "base_uri": "https://localhost:8080/"
        }
      },
      "source": [
        "a = \"\"\n",
        "length = 0\n",
        "len(a)"
      ],
      "execution_count": 2,
      "outputs": [
        {
          "output_type": "execute_result",
          "data": {
            "text/plain": [
              "0"
            ]
          },
          "metadata": {
            "tags": []
          },
          "execution_count": 2
        }
      ]
    },
    {
      "cell_type": "code",
      "metadata": {
        "_uuid": "414757875aaf8d420c50cb1f7db11431be7bcbba",
        "id": "U7ZKtCwoRiUP",
        "outputId": "416de66e-cab7-4fa3-b428-c7fcd3418e33",
        "colab": {
          "base_uri": "https://localhost:8080/"
        }
      },
      "source": [
        "b = \"it's ok\"\n",
        "length = 7\n",
        "len(b)"
      ],
      "execution_count": 3,
      "outputs": [
        {
          "output_type": "execute_result",
          "data": {
            "text/plain": [
              "7"
            ]
          },
          "metadata": {
            "tags": []
          },
          "execution_count": 3
        }
      ]
    },
    {
      "cell_type": "code",
      "metadata": {
        "_uuid": "a8d8d51e65782fb0a9b934bcd7b94a3a101df408",
        "id": "B1JB-0NbRiUQ",
        "outputId": "346bcaeb-1462-4001-8d48-4de95838d431",
        "colab": {
          "base_uri": "https://localhost:8080/"
        }
      },
      "source": [
        "c = 'it\\'s ok'\n",
        "length =8\n",
        "len(c)"
      ],
      "execution_count": 4,
      "outputs": [
        {
          "output_type": "execute_result",
          "data": {
            "text/plain": [
              "7"
            ]
          },
          "metadata": {
            "tags": []
          },
          "execution_count": 4
        }
      ]
    },
    {
      "cell_type": "code",
      "metadata": {
        "_uuid": "1c1210ff8d227392c348f60cf80cd16259ae7ade",
        "id": "Myk7nbuuRiUR",
        "outputId": "39648c41-df15-4af8-8dd5-aacce27f442b",
        "colab": {
          "base_uri": "https://localhost:8080/"
        }
      },
      "source": [
        "d = \"\"\"hey\"\"\"\n",
        "length = 3\n",
        "len(d)"
      ],
      "execution_count": 5,
      "outputs": [
        {
          "output_type": "execute_result",
          "data": {
            "text/plain": [
              "3"
            ]
          },
          "metadata": {
            "tags": []
          },
          "execution_count": 5
        }
      ]
    },
    {
      "cell_type": "code",
      "metadata": {
        "_uuid": "cdff866e749b860f308f5bd1067e24484aff30c3",
        "id": "JJWR-yXdRiUS",
        "outputId": "f879457f-b64f-4cb1-f74b-818da1049013",
        "colab": {
          "base_uri": "https://localhost:8080/"
        }
      },
      "source": [
        "e = '\\n'\n",
        "length = 2\n",
        "len(e)"
      ],
      "execution_count": 6,
      "outputs": [
        {
          "output_type": "execute_result",
          "data": {
            "text/plain": [
              "1"
            ]
          },
          "metadata": {
            "tags": []
          },
          "execution_count": 6
        }
      ]
    },
    {
      "cell_type": "markdown",
      "metadata": {
        "_uuid": "5d2fdc40db10425df62137069f80c75bfe3577e6",
        "id": "MCwYR8beRiUT"
      },
      "source": [
        "## 1. Check the Zip Code\n",
        "\n",
        "There is a saying that *\\\"Data scientists spend 80% of their time cleaning data, and 20% of their time complaining about cleaning data.\\\"* Let's see if you can write a function to help clean US zip code data. Given a string, it should return whether or not that string represents a valid zip code. For our purposes, a valid zip code is any string consisting of exactly 5 digits.\n",
        "\n",
        "HINT: `str` has a method that will be useful here. Use `help(str)` to review a list of string methods."
      ]
    },
    {
      "cell_type": "code",
      "metadata": {
        "_uuid": "0968fb6aa0c620b82f38f53f49608f7dfc255a4b",
        "id": "TXYC9lJhRiUU"
      },
      "source": [
        "def is_valid_zip(zip_code):\n",
        "    \"\"\"Returns whether the input string is a valid (5 digit) zip code\n",
        "    \"\"\"\n",
        "    if type(zip_code)==str and len(zip_code)==5:\n",
        "      return True\n",
        "    else:\n",
        "      return False\n"
      ],
      "execution_count": 1,
      "outputs": []
    },
    {
      "cell_type": "code",
      "metadata": {
        "id": "Do1WDA66cOJo"
      },
      "source": [
        "f = '12345'"
      ],
      "execution_count": 2,
      "outputs": []
    },
    {
      "cell_type": "code",
      "metadata": {
        "id": "mXGP97r6bUHT",
        "outputId": "9c9e845d-e745-4dc5-a8e6-8b06d3622ec9",
        "colab": {
          "base_uri": "https://localhost:8080/"
        }
      },
      "source": [
        "is_valid_zip(f)\n"
      ],
      "execution_count": 3,
      "outputs": [
        {
          "output_type": "execute_result",
          "data": {
            "text/plain": [
              "True"
            ]
          },
          "metadata": {
            "tags": []
          },
          "execution_count": 3
        }
      ]
    },
    {
      "cell_type": "markdown",
      "metadata": {
        "_uuid": "0530e64dceb40965b18ccf1c8cb3b5a6275cbee5",
        "id": "YIBL98gERiUV"
      },
      "source": [
        "## 2. Searching a Word\n",
        "\n",
        "A researcher has gathered thousands of news articles. But she wants to focus her attention on articles including a specific word. Complete the function below to help her filter her list of articles.\n",
        "\n",
        "Your function should meet the following criteria\n",
        "\n",
        "- Do not include documents where the keyword string shows up only as a part of a larger word. For example, if she were looking for the keyword “closed”, you would not include the string “enclosed.” \n",
        "- She does not want you to distinguish upper case from lower case letters. So the phrase “Closed the case.” would be included when the keyword is “closed”\n",
        "- Do not let periods or commas affect what is matched. “It is closed.” would be included when the keyword is “closed”. But you can assume there are no other types of punctuation.\n",
        "\n",
        "*HINT*: Some methods that may be useful here: `str.split()`, `str.strip()`, `str.lower()`"
      ]
    },
    {
      "cell_type": "code",
      "metadata": {
        "_uuid": "c86a3942f07264242e43c0788443b7059b10c3f2",
        "id": "6sgwKFt5RiUW"
      },
      "source": [
        "def word_search(doc_list, keyword):\n",
        "    \"\"\"\n",
        "    Takes a list of documents (each document is a string) and a keyword. \n",
        "    Returns list of the index values into the original list for all documents \n",
        "    containing the keyword.\n",
        "\n",
        "    Example:\n",
        "    doc_list = [\"The Learn Python Challenge Casino.\", \"They bought a car\", \"Casinoville\"] -> Trong doc_list sẽ có nhiều list khác nhaunhau\n",
        "    >>> word_search(doc_list, 'casino')\n",
        "    >>> [0]\n",
        "    \"\"\"\n",
        "    result = list()\n",
        "    for lists in doc_list:\n",
        "        list_in_doc = lists.split()\n",
        "        for word in list_in_doc:\n",
        "            word_list = word.lower().rstrip('.,')\n",
        "        if keyword in word_list:\n",
        "            result.append(doc_list.index(lists))\n",
        "    return result\n",
        "\n"
      ],
      "execution_count": 49,
      "outputs": []
    },
    {
      "cell_type": "code",
      "metadata": {
        "id": "6BjAmqFcXlm9",
        "outputId": "fc45dd43-fac8-4679-de6c-0712762441e6",
        "colab": {
          "base_uri": "https://localhost:8080/"
        }
      },
      "source": [
        "doc_list = [\"The Learn Python Challenge Casino.\",\"car\", \"They bought a car\", \" Casinoville\"]\n",
        "word_search(doc_list, 'car')"
      ],
      "execution_count": 50,
      "outputs": [
        {
          "output_type": "execute_result",
          "data": {
            "text/plain": [
              "[1, 2]"
            ]
          },
          "metadata": {
            "tags": []
          },
          "execution_count": 50
        }
      ]
    },
    {
      "cell_type": "markdown",
      "metadata": {
        "_uuid": "4ebf288ef2b0e43099e255b7e00b58c91065bda2",
        "id": "n2TM9ABvRiUX"
      },
      "source": [
        "## 3. Searching Multiple Words\n",
        "\n",
        "Now the researcher wants to supply multiple keywords to search for. Complete the function below to help her.\n",
        "\n",
        "(You're encouraged to use the `word_search` function you just wrote when implementing this function. Reusing code in this way makes your programs more robust and readable - and it saves typing!)"
      ]
    },
    {
      "cell_type": "code",
      "metadata": {
        "_uuid": "49feefa04c2f567d4aaf5544d9f65c88dccd6ccc",
        "id": "MRXRHm3CRiUY"
      },
      "source": [
        "def multi_word_search(doc_list, keywords):\n",
        "    \"\"\"\n",
        "    Takes list of documents (each document is a string) and a list of keywords.  \n",
        "    Returns a dictionary where each key is a keyword, and the value is a list of indices\n",
        "    (from doc_list) of the documents containing that keyword\n",
        "\n",
        "    >>> doc_list = [\"The Learn Python Challenge Casino.\", \"They bought a car and a casino\", \"Casinoville\"]\n",
        "    >>> keywords = ['casino', 'they']\n",
        "    >>> multi_word_search(doc_list, keywords)\n",
        "    {'casino': [0, 1], 'they': [1]}\n",
        "    \"\"\"\n",
        "    # result_dic = dict{}\n",
        "    # for lists in doc_list:\n",
        "    #     list_in_doc = lists.split()\n",
        "    #     for word in list_in_doc:\n",
        "    #         word_list = word.lower().rstrip('.,')\n",
        "    #     if keyword in word_list:\n",
        "    #         result.append(doc_list.index(lists))\n",
        "    # return result"
      ],
      "execution_count": null,
      "outputs": []
    },
    {
      "cell_type": "markdown",
      "metadata": {
        "_uuid": "3ced46d9ad32f750e15daf58772bd49760056cd2",
        "id": "wCfHvM23RiUe"
      },
      "source": [
        "# Keep Going 💪"
      ]
    }
  ]
}