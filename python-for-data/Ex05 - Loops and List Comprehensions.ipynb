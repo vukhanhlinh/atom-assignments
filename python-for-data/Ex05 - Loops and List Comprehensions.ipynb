{
  "nbformat": 4,
  "nbformat_minor": 0,
  "metadata": {
    "kernelspec": {
      "display_name": "Python 3",
      "language": "python",
      "name": "python3"
    },
    "language_info": {
      "codemirror_mode": {
        "name": "ipython",
        "version": 3
      },
      "file_extension": ".py",
      "mimetype": "text/x-python",
      "name": "python",
      "nbconvert_exporter": "python",
      "pygments_lexer": "ipython3",
      "version": "3.6.5"
    },
    "learntools_metadata": {
      "lesson_index": 4,
      "type": "exercise"
    },
    "colab": {
      "name": "Ex05 - Loops and List Comprehensions.ipynb",
      "provenance": [],
      "include_colab_link": true
    }
  },
  "cells": [
    {
      "cell_type": "markdown",
      "metadata": {
        "id": "view-in-github",
        "colab_type": "text"
      },
      "source": [
        "<a href=\"https://colab.research.google.com/github/vukhanhlinh/atom-assignments/blob/main/python-for-data/Ex05%20-%20Loops%20and%20List%20Comprehensions.ipynb\" target=\"_parent\"><img src=\"https://colab.research.google.com/assets/colab-badge.svg\" alt=\"Open In Colab\"/></a>"
      ]
    },
    {
      "cell_type": "markdown",
      "metadata": {
        "_uuid": "b2602a05cf2d20af168afaa982545b38dbf19e2b",
        "id": "f8oFwyuomnEK"
      },
      "source": [
        "# Exercises 05 - Loops and List Comprehensions"
      ]
    },
    {
      "cell_type": "markdown",
      "metadata": {
        "_uuid": "39cbbb078ea28f9ce28003e88abd1e33c0130a59",
        "id": "u_LNIJ3CmnEV"
      },
      "source": [
        "## 1. Taste the Bug\n",
        "\n",
        "Have you ever felt debugging involved a bit of luck? The following program has a bug. Try to identify the bug and fix it."
      ]
    },
    {
      "cell_type": "code",
      "metadata": {
        "_uuid": "80dbc6c5838c3b6ec757982a9d9f10d2d4cbf091",
        "collapsed": true,
        "id": "pT-lxrBZmnEY"
      },
      "source": [
        "\n",
        "def has_lucky_number(nums):\n",
        "    \"\"\"Return whether the given list of numbers is lucky. A lucky list contains\n",
        "    at least one number divisible by 7.\n",
        "    \"\"\"\n",
        "    for i in nums: \n",
        "        if int(i) != 0 and int(i) % 7 == 0:\n",
        "          print('Yes')\n",
        "          return #True\n",
        "    print('No')\n",
        "\n",
        "  "
      ],
      "execution_count": 60,
      "outputs": []
    },
    {
      "cell_type": "code",
      "metadata": {
        "id": "cuNAlSdExDpV",
        "colab": {
          "base_uri": "https://localhost:8080/"
        },
        "outputId": "e1ec7911-ba0d-48e8-b78f-25fbc1a54f8f"
      },
      "source": [
        "list_nums = []\n",
        "print('Input your number or Enter to finish')\n",
        "while True:\n",
        "    num = input()\n",
        "    if num == '':\n",
        "      break\n",
        "    list_nums.append(num)\n",
        "print('The list ', list_nums , ' contains a lucky number ?')\n",
        "\n",
        "has_lucky_number(list_nums)"
      ],
      "execution_count": 61,
      "outputs": [
        {
          "output_type": "stream",
          "text": [
            "Input your number or Enter to finish\n",
            "4\n",
            "1\n",
            "\n",
            "The list  ['4', '1']  contains a lucky number ?\n",
            "No\n"
          ],
          "name": "stdout"
        }
      ]
    },
    {
      "cell_type": "markdown",
      "metadata": {
        "_uuid": "66500079b6794826dcdb900fafcb8eef2337e567",
        "id": "evZProGKmnEb"
      },
      "source": [
        "# **2. Upgrade the List**\n",
        "\n",
        "### a. Guess the Error\n",
        "Look at the Python expression below. What do you think we'll get when we run it? When you've made your prediction, uncomment the code and run the cell to see if you were right."
      ]
    },
    {
      "cell_type": "code",
      "metadata": {
        "_uuid": "fa0dc6517349473813e673fdc03ed8c4c055b840",
        "id": "rCKtibnXmnEd",
        "colab": {
          "base_uri": "https://localhost:8080/",
          "height": 166
        },
        "outputId": "14adc33a-8559-44cb-b243-d029be4bc1d3"
      },
      "source": [
        "[1, 2, 3, 4] > 2"
      ],
      "execution_count": 55,
      "outputs": [
        {
          "output_type": "error",
          "ename": "TypeError",
          "evalue": "ignored",
          "traceback": [
            "\u001b[0;31m---------------------------------------------------------------------------\u001b[0m",
            "\u001b[0;31mTypeError\u001b[0m                                 Traceback (most recent call last)",
            "\u001b[0;32m<ipython-input-55-6f064fcfe2b9>\u001b[0m in \u001b[0;36m<module>\u001b[0;34m()\u001b[0m\n\u001b[0;32m----> 1\u001b[0;31m \u001b[0;34m[\u001b[0m\u001b[0;36m1\u001b[0m\u001b[0;34m,\u001b[0m \u001b[0;36m2\u001b[0m\u001b[0;34m,\u001b[0m \u001b[0;36m3\u001b[0m\u001b[0;34m,\u001b[0m \u001b[0;36m4\u001b[0m\u001b[0;34m]\u001b[0m \u001b[0;34m>\u001b[0m \u001b[0;36m2\u001b[0m\u001b[0;34m\u001b[0m\u001b[0;34m\u001b[0m\u001b[0m\n\u001b[0m",
            "\u001b[0;31mTypeError\u001b[0m: '>' not supported between instances of 'list' and 'int'"
          ]
        }
      ]
    },
    {
      "cell_type": "markdown",
      "metadata": {
        "_uuid": "ba09a6cf59b560790ad1c47108fde12095ce94c8",
        "id": "-pW3Xoz8mnEh"
      },
      "source": [
        "### b. Upgrade the List\n",
        "R and Python have some libraries (like Numpy and Pandas) compare each element of the list to 2 (i.e. do an 'element-wise' comparison) and give us a list of booleans like `[False, False, True, True]`. \n",
        "\n",
        "Implement a function that reproduces this behaviour, returning a list of booleans corresponding to whether the corresponding element is greater than n.\n"
      ]
    },
    {
      "cell_type": "code",
      "metadata": {
        "_uuid": "9c7f806cb1d832e7162975ab3fd892d90c9de62e",
        "collapsed": true,
        "id": "tkSwrAR3mnEi"
      },
      "source": [
        "def elementwise_greater_than(L, thresh):\n",
        "    \"\"\"Return a list with the same length as L, where the value at index i is \n",
        "    True if L[i] is greater than thresh, and False otherwise.\n",
        "    \n",
        "    >>> elementwise_greater_than([1, 2, 3, 4], 2)\n",
        "    [False, False, True, True]\n",
        "    \"\"\"\n",
        "    result = []\n",
        "    for i in L:\n",
        "      if int(i) > thresh:\n",
        "        result.append(True)\n",
        "      else:\n",
        "        result.append(False)\n",
        "    return result\n",
        "\n"
      ],
      "execution_count": 57,
      "outputs": []
    },
    {
      "cell_type": "code",
      "metadata": {
        "id": "zOwOQIIPRZBg",
        "outputId": "8ca87a3b-85f1-42b7-ddee-2a7d387db810",
        "colab": {
          "base_uri": "https://localhost:8080/"
        }
      },
      "source": [
        "elementwise_greater_than(['1', '2', '3', '4'], 2)"
      ],
      "execution_count": 58,
      "outputs": [
        {
          "output_type": "execute_result",
          "data": {
            "text/plain": [
              "[False, False, True, True]"
            ]
          },
          "metadata": {
            "tags": []
          },
          "execution_count": 58
        }
      ]
    },
    {
      "cell_type": "markdown",
      "metadata": {
        "_uuid": "ec3742d0eae13ae6e656ef68f1d228d2098cad93",
        "id": "tQPnyqkpmnEk"
      },
      "source": [
        "## 3. Boring Menu\n",
        "\n",
        "Complete the body of the function below according to its docstring.\n",
        "\n",
        "*Hint*: This is a case where it may be preferable to iterate over the indices of the list (using a call to `range()`) rather than iterating over the elements of the list itself. "
      ]
    },
    {
      "cell_type": "code",
      "metadata": {
        "_uuid": "ae16b8cbde7f920ecd36a2c9d69965933b3fe1f7",
        "id": "IWvjBPZAmnEm"
      },
      "source": [
        "def menu_is_boring(meals):\n",
        "    \"\"\"Given a list of meals served over some period of time, return True if the\n",
        "    same meal has ever been served two days in a row, and False otherwise.\n",
        "    \"\"\"\n",
        "    for i in range(len(meals)-1):\n",
        "      if meals[i] == meals[i+1]:\n",
        "        print('This is a boring menu')\n",
        "        return \n",
        "    print('This is not a boring menu')"
      ],
      "execution_count": 67,
      "outputs": []
    },
    {
      "cell_type": "code",
      "metadata": {
        "id": "w1J62i3FQw6u",
        "outputId": "f8a55e5c-374f-4525-978e-9b30bfddae37",
        "colab": {
          "base_uri": "https://localhost:8080/"
        }
      },
      "source": [
        "menu = ['a', 'a', 'ew','f']\n",
        "menu_is_boring(menu)"
      ],
      "execution_count": 68,
      "outputs": [
        {
          "output_type": "stream",
          "text": [
            "This is a boring menu\n"
          ],
          "name": "stdout"
        }
      ]
    },
    {
      "cell_type": "markdown",
      "metadata": {
        "_uuid": "12707cf184da3d75666bf4adfd4c54602fe5e11c",
        "id": "sNTQuarSmnEn"
      },
      "source": [
        "# Keep Going"
      ]
    }
  ]
}